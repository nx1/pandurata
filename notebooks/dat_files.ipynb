{
 "cells": [
  {
   "cell_type": "code",
   "execution_count": 3,
   "id": "d387f3f8-efff-40d9-bc5d-fef805ebb52c",
   "metadata": {},
   "outputs": [],
   "source": [
    "import pandas as pd"
   ]
  },
  {
   "cell_type": "code",
   "execution_count": 1,
   "id": "7569d371-5e64-45e3-8c8d-c0cf240e32ef",
   "metadata": {},
   "outputs": [
    {
     "data": {
      "text/plain": [
       "'../data/scat_spec.0624.dat'"
      ]
     },
     "execution_count": 1,
     "metadata": {},
     "output_type": "execute_result"
    }
   ],
   "source": [
    "# input files\n",
    "'../data/bb_0624_new.dat'\n",
    "'../data/gr_0624_new.dat'\n",
    "'../data/ph_0624_new.dat'\n",
    "'../data/rh_0624_new.dat'\n",
    "'../data/ta_0624_new.dat'\n",
    "'../data/te_0624_new.dat'\n",
    "'../data/u0_0624_new.dat'\n",
    "'../data/u1_0624_new.dat'\n",
    "'../data/u2_0624_new.dat'\n",
    "'../data/u3_0624_new.dat'\n",
    "\n",
    "# Output Files (in order written)\n",
    "\n",
    "# Both files written over the 2-grid\n",
    "# for (jth=0; jth<=Nth_obs; jth++) {\n",
    "# for (je=0;  je<=Ne;       je++) { \n",
    "'../data/scat_spec.0624.dat' # Ispec, Qspec, Uspec (Polarisation spectra) | fname1\n",
    "'../data/scat_line.0624.dat' # Lspec               (Iron line intensity)  | fname2 \n",
    "\n",
    "\n",
    "# for (jr=0; jr<=Nr; jr++) {\n",
    "# for (je=0; je<=Ne; je++) { \n",
    "'../data/scat_disk.0624.dat' # Rspec (specific intensity?) | fname3  https://en.wikipedia.org/wiki/Spectral_radiance (rate of radiative transfer of energy at P1)\n",
    "\n",
    "# First Ispecr is written over the 2-grid\n",
    "# for (jth=0; jth<=Nth_obs; jth++) {\n",
    "# for (je=0;  je<=Ne;       je++) {\n",
    "# then rr[jr], L_factr[jr], G_factr[jr] together on one line over the range:\n",
    "# for (jr=0; jr<=Nr; jr++) {\n",
    "# then Qspecr then Uspecr then Rspecr then Cspecr are written over the 3-grid:\n",
    "#  for (jr=0;  jr<=Nr;       jr++) {\n",
    "#  for (jth=0; jth<=Nth_obs; jth++) {\n",
    "#  for (je=0;  je<=Ne;       je++) { \n",
    "'../data/scat_spcr.0624.dat' # Ispecr then (rr, L_factr, G_factr) then Qspecr , Uspecr, Rspecr, Cspecr | fname6\n",
    "\n",
    "# First image over 3-grid\n",
    "#  for (it=0; it<=Nth_obs; it++) {\n",
    "#  for (iy=0; iy<=Ni;      iy++) {\n",
    "#  for (ix=0; ix<=Ni;      ix++) { \n",
    "# Then spcimage over 4-grid\n",
    "# for (it=0; it<=Nth_obs; it++) {\n",
    "# for (iy=0; iy<=Ni;      iy++) {\n",
    "# for (ix=0; ix<=Ni;      ix++) {\n",
    "# for (je=0; je<=Ne_obs;  je++) { \n",
    "'../data/scat_imag.0624.dat' # image, spcimage | fname4\n",
    "\n",
    "\n",
    "# First imagex then imagey over the same 3-grid\n",
    "# for (it=0; it<=Nth_obs; it++) {\n",
    "# for (iy=0; iy<=Ni;      iy++) {\n",
    "# for (ix=0; ix<=Ni;      ix++) {\n",
    "# Then spcimagex then imagey over the the 4-grid:\n",
    "# for (it=0; it<=Nth_obs; it++) {\n",
    "# for (iy=0; iy<=Ni;      iy++) {\n",
    "# for (ix=0; ix<=Ni;      ix++) {\n",
    "# for (je=0; je<=Ne_obs;  je++) { \n",
    "'../data/scat_ipol.0624.dat' # imagex, imagey, spcimagex, spcimagey | fname5\n",
    "\n",
    "# corpow_ijk is then written over the 3-grid\n",
    "# for (ir=0;  ir<=Nr;   ir++) {\n",
    "# for (ith=0; ith<=Nth; ith++) {\n",
    "# for (iph=0; iph<=Nph; iph++) { \n",
    "'../data/scat_cpow.0624.dat' # corpow_ijk | fname8\n",
    "\n",
    "# Ispecp is written over the 3-grid\n",
    "# for (jth=0; jth<=Nth_obs; jth++) {\n",
    "# for (jph=0; jph<=Nph_obs; jph++) {\n",
    "# for (je=0;  je<=Ne;       je++)  { \n",
    "'../data/scat_spcp.0624.dat' # Ispecp | fname9\n",
    "\n",
    "# First phimage then phimagex then phimagey are written over the 4-grid\n",
    "# for (it=0; it<=Nth_obs; it++) {\n",
    "# for (ip=0; ip<=Nph_obs; ip++) {\n",
    "# for (ix=0; ix<=Ni;      ix++) {\n",
    "# for (iy=0; iy<=Ni;      iy++) {\n",
    "'../data/scat_ithp.0624.dat' # phimage, phimagex, phimagey | fname7\n",
    "\n",
    "\n",
    "'../data/dump_times.dat'    \n"
   ]
  },
  {
   "cell_type": "code",
   "execution_count": null,
   "id": "44928f23-bf15-4322-95b2-67ff1198bcf3",
   "metadata": {},
   "outputs": [],
   "source": []
  },
  {
   "cell_type": "code",
   "execution_count": null,
   "id": "1336b484-9f0f-4777-a7cc-204afcbeed3f",
   "metadata": {},
   "outputs": [],
   "source": []
  },
  {
   "cell_type": "code",
   "execution_count": null,
   "id": "b447fa78-7ad9-4dd8-8346-21b069e23097",
   "metadata": {},
   "outputs": [],
   "source": []
  },
  {
   "cell_type": "code",
   "execution_count": null,
   "id": "40dc858c-9af5-4efb-8161-7c71cc1d8aae",
   "metadata": {},
   "outputs": [],
   "source": []
  },
  {
   "cell_type": "code",
   "execution_count": null,
   "id": "75aca893-972b-4b5f-92ed-7a9a1fbdc369",
   "metadata": {},
   "outputs": [],
   "source": []
  },
  {
   "cell_type": "code",
   "execution_count": null,
   "id": "87a1bd0a-a83d-443c-a13f-48e0ef24c20b",
   "metadata": {},
   "outputs": [],
   "source": []
  }
 ],
 "metadata": {
  "kernelspec": {
   "display_name": "Python 3 (ipykernel)",
   "language": "python",
   "name": "python3"
  },
  "language_info": {
   "codemirror_mode": {
    "name": "ipython",
    "version": 3
   },
   "file_extension": ".py",
   "mimetype": "text/x-python",
   "name": "python",
   "nbconvert_exporter": "python",
   "pygments_lexer": "ipython3",
   "version": "3.11.5"
  }
 },
 "nbformat": 4,
 "nbformat_minor": 5
}
